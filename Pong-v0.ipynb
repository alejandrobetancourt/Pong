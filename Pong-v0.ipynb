{
 "cells": [
  {
   "cell_type": "code",
   "execution_count": 1,
   "id": "0e51027d",
   "metadata": {},
   "outputs": [],
   "source": [
    "#!python -m atari_py.import_roms .\\ROMS"
   ]
  },
  {
   "cell_type": "code",
   "execution_count": 2,
   "id": "df5fef85",
   "metadata": {},
   "outputs": [],
   "source": [
    "import tensorflow as tf\n",
    "from tensorflow import keras\n",
    "import numpy as np\n",
    "import matplotlib.pyplot as plt\n",
    "import os"
   ]
  },
  {
   "cell_type": "code",
   "execution_count": 3,
   "id": "cfb4be13",
   "metadata": {},
   "outputs": [],
   "source": [
    "from tf_agents.environments.wrappers import ActionRepeat\n",
    "from tf_agents.environments import suite_gym\n",
    "from tf_agents.environments import suite_atari\n",
    "from tf_agents.environments.tf_py_environment import TFPyEnvironment\n",
    "from tf_agents.environments.atari_preprocessing import AtariPreprocessing\n",
    "from tf_agents.environments.atari_wrappers import FrameStack4\n",
    "from tf_agents.networks.q_network import QNetwork\n",
    "from tf_agents.networks.categorical_q_network import CategoricalQNetwork\n",
    "from tf_agents.agents.dqn.dqn_agent import DqnAgent\n",
    "from tf_agents.agents.categorical_dqn.categorical_dqn_agent import CategoricalDqnAgent\n",
    "from tf_agents.replay_buffers.tf_uniform_replay_buffer import TFUniformReplayBuffer\n",
    "from tf_agents.metrics import tf_metrics\n",
    "from tf_agents.policies.random_tf_policy import RandomTFPolicy\n",
    "from tf_agents.drivers.dynamic_step_driver import DynamicStepDriver\n",
    "from tf_agents.utils.common import element_wise_squared_loss\n",
    "from tf_agents.utils.common import function\n",
    "from tf_agents.utils.common import Checkpointer\n",
    "from tf_agents.policies.policy_saver import PolicySaver"
   ]
  },
  {
   "cell_type": "code",
   "execution_count": 4,
   "id": "1afb7ddd",
   "metadata": {},
   "outputs": [],
   "source": [
    "global_step = tf.Variable(0)\n",
    "env_name = \"Pong-v0\"\n",
    "\n",
    "#QNetwork parameters\n",
    "num_atoms = 51\n",
    "conv_layer_params = [(32, (8, 8), 4), (64, (4, 4), 2), (64, (3, 3), 1)]\n",
    "fc_layer_params = (512,)\n",
    "\n",
    "#DQN Agent parameters\n",
    "learning_rate = 5e-4\n",
    "target_update_period = 2000\n",
    "gamma = .92\n",
    "epsilon = 0\n",
    "n_step_update = 2\n",
    "\n",
    "#Replay Buffer parameters\n",
    "replay_buffer_capacity = 30000\n",
    "\n",
    "#Training parameters\n",
    "num_training_steps = 1000000"
   ]
  },
  {
   "cell_type": "markdown",
   "id": "f06e8e3a",
   "metadata": {},
   "source": [
    "# Make the environment"
   ]
  },
  {
   "cell_type": "code",
   "execution_count": 5,
   "id": "1445f113",
   "metadata": {},
   "outputs": [],
   "source": [
    "train_env_py = suite_atari.load(env_name,\n",
    "                                gym_env_wrappers = [AtariPreprocessing, FrameStack4])\n",
    "eval_env_py = suite_atari.load(env_name,\n",
    "                                gym_env_wrappers = [AtariPreprocessing, FrameStack4])"
   ]
  },
  {
   "cell_type": "code",
   "execution_count": 6,
   "id": "b526f497",
   "metadata": {},
   "outputs": [
    {
     "data": {
      "text/plain": [
       "['NOOP', 'FIRE', 'RIGHT', 'LEFT', 'RIGHTFIRE', 'LEFTFIRE']"
      ]
     },
     "execution_count": 6,
     "metadata": {},
     "output_type": "execute_result"
    }
   ],
   "source": [
    "train_env_py.get_action_meanings()"
   ]
  },
  {
   "cell_type": "code",
   "execution_count": 7,
   "id": "d2e48354",
   "metadata": {},
   "outputs": [],
   "source": [
    "train_env = TFPyEnvironment(train_env_py)\n",
    "eval_env = TFPyEnvironment(eval_env_py)"
   ]
  },
  {
   "cell_type": "code",
   "execution_count": 8,
   "id": "53879939",
   "metadata": {},
   "outputs": [
    {
     "data": {
      "text/plain": [
       "('step_type', 'reward', 'discount', 'observation')"
      ]
     },
     "execution_count": 8,
     "metadata": {},
     "output_type": "execute_result"
    }
   ],
   "source": [
    "train_env.time_step_spec()._fields"
   ]
  },
  {
   "cell_type": "code",
   "execution_count": 9,
   "id": "eb656d4f",
   "metadata": {},
   "outputs": [
    {
     "data": {
      "text/plain": [
       "BoundedTensorSpec(shape=(84, 84, 4), dtype=tf.uint8, name='observation', minimum=array(0, dtype=uint8), maximum=array(255, dtype=uint8))"
      ]
     },
     "execution_count": 9,
     "metadata": {},
     "output_type": "execute_result"
    }
   ],
   "source": [
    "train_env.observation_spec()"
   ]
  },
  {
   "cell_type": "code",
   "execution_count": 10,
   "id": "798e04ba",
   "metadata": {},
   "outputs": [
    {
     "data": {
      "text/plain": [
       "BoundedTensorSpec(shape=(), dtype=tf.int64, name='action', minimum=array(0, dtype=int64), maximum=array(5, dtype=int64))"
      ]
     },
     "execution_count": 10,
     "metadata": {},
     "output_type": "execute_result"
    }
   ],
   "source": [
    "train_env.action_spec()"
   ]
  },
  {
   "cell_type": "markdown",
   "id": "2a80bdd7",
   "metadata": {},
   "source": [
    "# Make the Network"
   ]
  },
  {
   "cell_type": "code",
   "execution_count": 11,
   "id": "62a360ad",
   "metadata": {},
   "outputs": [],
   "source": [
    "preprocessing_layer = keras.layers.Lambda(lambda obs : tf.cast(obs, np.float32)/255.0)\n",
    "\n",
    "q_net = QNetwork(train_env.observation_spec(), \n",
    "                 train_env.action_spec(),\n",
    "                 preprocessing_layers = preprocessing_layer,\n",
    "                 conv_layer_params = conv_layer_params,\n",
    "                 fc_layer_params = fc_layer_params)"
   ]
  },
  {
   "cell_type": "markdown",
   "id": "4caa30bd",
   "metadata": {},
   "source": [
    "Alternatively we can use a categorical DQN agent to speed up training and make it more stable."
   ]
  },
  {
   "cell_type": "code",
   "execution_count": 12,
   "id": "3e8177ce",
   "metadata": {},
   "outputs": [],
   "source": [
    "# preprocessing_layer = keras.layers.Lambda(lambda obs : tf.cast(obs, np.float32)/255.0)\n",
    "\n",
    "# cat_q_net = CategoricalQNetwork(train_env.observation_spec(),\n",
    "#                                 train_env.action_spec(),\n",
    "#                                 preprocessing_layers = preprocessing_layer,\n",
    "#                                 conv_layer_params = conv_layer_params,\n",
    "#                                 num_atoms = num_atoms,\n",
    "#                                 fc_layer_params = fc_layer_params)"
   ]
  },
  {
   "cell_type": "markdown",
   "id": "d1950bf8",
   "metadata": {},
   "source": [
    "# Create the agent "
   ]
  },
  {
   "cell_type": "code",
   "execution_count": 13,
   "id": "694d849c",
   "metadata": {},
   "outputs": [],
   "source": [
    "optimizer = keras.optimizers.Adam(learning_rate = learning_rate)\n",
    "\n",
    "epsilon_fn = keras.optimizers.schedules.PolynomialDecay(\n",
    "    initial_learning_rate=.26, \n",
    "    decay_steps= 25,\n",
    "    end_learning_rate=0.01)\n",
    "\n",
    "agent = DqnAgent(train_env.time_step_spec(),\n",
    "                 train_env.action_spec(),\n",
    "                 q_network = q_net,\n",
    "                 optimizer = optimizer,\n",
    "                 target_update_period = target_update_period,\n",
    "                 td_errors_loss_fn = keras.losses.Huber(reduction=\"none\"),\n",
    "                 gamma = gamma,\n",
    "                 train_step_counter = global_step,\n",
    "                 epsilon_greedy = lambda : epsilon_fn(global_step))\n",
    "\n",
    "agent.initialize()"
   ]
  },
  {
   "cell_type": "code",
   "execution_count": 14,
   "id": "75bea370",
   "metadata": {},
   "outputs": [],
   "source": [
    "# optimizer = keras.optimizers.Adam(learning_rate = learning_rate)\n",
    "\n",
    "# epsilon_fn = keras.optimizers.schedules.PolynomialDecay(\n",
    "#     initial_learning_rate=.31, \n",
    "#     decay_steps= 30,\n",
    "#     end_learning_rate=0.01)\n",
    "\n",
    "# agent = CategoricalDqnAgent(train_env.time_step_spec(),\n",
    "#                             train_env.action_spec(),\n",
    "#                             categorical_q_network = cat_q_net,\n",
    "#                             optimizer = optimizer,\n",
    "#                             min_q_value = -20,\n",
    "#                             max_q_value = 20,\n",
    "#                             n_step_update = n_step_update,\n",
    "#                             td_errors_loss_fn = element_wise_squared_loss, #keras.losses.Huber(reduction=\"none\"),\n",
    "#                             gamma = gamma,\n",
    "#                             epsilon_greedy = epsilon,\n",
    "#                             train_step_counter = global_step)\n",
    "\n",
    "# agent.initialize()"
   ]
  },
  {
   "cell_type": "markdown",
   "id": "beee658c",
   "metadata": {},
   "source": [
    "# Create the Replay Buffer"
   ]
  },
  {
   "cell_type": "code",
   "execution_count": 15,
   "id": "a95aec9a",
   "metadata": {},
   "outputs": [],
   "source": [
    "replay_buffer = TFUniformReplayBuffer(data_spec = agent.collect_data_spec,\n",
    "                                      batch_size = train_env.batch_size,\n",
    "                                      max_length = 5000)\n",
    "\n",
    "observer = replay_buffer.add_batch"
   ]
  },
  {
   "cell_type": "markdown",
   "id": "e7b143fe",
   "metadata": {},
   "source": [
    "# Metrics"
   ]
  },
  {
   "cell_type": "code",
   "execution_count": 16,
   "id": "c155a260",
   "metadata": {},
   "outputs": [],
   "source": [
    "training_metrics = [\n",
    "    tf_metrics.NumberOfEpisodes(),\n",
    "    tf_metrics.EnvironmentSteps(),\n",
    "    tf_metrics.AverageReturnMetric(),\n",
    "    tf_metrics.AverageEpisodeLengthMetric()]"
   ]
  },
  {
   "cell_type": "markdown",
   "id": "e884328c",
   "metadata": {},
   "source": [
    "# Drivers"
   ]
  },
  {
   "cell_type": "code",
   "execution_count": 17,
   "id": "5f0ba324",
   "metadata": {},
   "outputs": [],
   "source": [
    "random_policy = RandomTFPolicy(train_env.time_step_spec(), train_env.action_spec())"
   ]
  },
  {
   "cell_type": "code",
   "execution_count": 18,
   "id": "92f31b22",
   "metadata": {},
   "outputs": [],
   "source": [
    "initial_driver = DynamicStepDriver(train_env,\n",
    "                                   policy = random_policy,\n",
    "                                   observers = [observer] + training_metrics,\n",
    "                                   num_steps = 20000)"
   ]
  },
  {
   "cell_type": "code",
   "execution_count": 19,
   "id": "9f3475c2",
   "metadata": {},
   "outputs": [],
   "source": [
    "collect_driver = DynamicStepDriver(train_env,\n",
    "                                   policy = agent.collect_policy,\n",
    "                                   observers = [observer] + training_metrics,\n",
    "                                   num_steps = 4)"
   ]
  },
  {
   "cell_type": "code",
   "execution_count": 20,
   "id": "bb68469d",
   "metadata": {},
   "outputs": [
    {
     "name": "stdout",
     "output_type": "stream",
     "text": [
      "WARNING:tensorflow:From C:\\Users\\alexb\\anaconda3\\envs\\ML_book\\lib\\site-packages\\tf_agents\\drivers\\dynamic_step_driver.py:199: calling while_loop_v2 (from tensorflow.python.ops.control_flow_ops) with back_prop=False is deprecated and will be removed in a future version.\n",
      "Instructions for updating:\n",
      "back_prop=False is deprecated. Consider using tf.stop_gradient instead.\n",
      "Instead of:\n",
      "results = tf.while_loop(c, b, vars, back_prop=False)\n",
      "Use:\n",
      "results = tf.nest.map_structure(tf.stop_gradient, tf.while_loop(c, b, vars))\n"
     ]
    },
    {
     "data": {
      "text/plain": [
       "(TimeStep(\n",
       " {'discount': <tf.Tensor: shape=(1,), dtype=float32, numpy=array([1.], dtype=float32)>,\n",
       "  'observation': <tf.Tensor: shape=(1, 84, 84, 4), dtype=uint8, numpy=\n",
       " array([[[[ 52,  52,  52,  52],\n",
       "          [ 52,  52,  52,  52],\n",
       "          [ 52,  52,  52,  52],\n",
       "          ...,\n",
       "          [ 87,  87,  87,  87],\n",
       "          [ 87,  87,  87,  87],\n",
       "          [ 87,  87,  87,  87]],\n",
       " \n",
       "         [[ 87,  87,  87,  87],\n",
       "          [ 87,  87,  87,  87],\n",
       "          [ 87,  87,  87,  87],\n",
       "          ...,\n",
       "          [ 87,  87,  87,  87],\n",
       "          [ 87,  87,  87,  87],\n",
       "          [ 87,  87,  87,  87]],\n",
       " \n",
       "         [[ 87,  87,  87,  87],\n",
       "          [ 87,  87,  87,  87],\n",
       "          [ 87,  87,  87,  87],\n",
       "          ...,\n",
       "          [ 87,  87,  87,  87],\n",
       "          [ 87,  87,  87,  87],\n",
       "          [ 87,  87,  87,  87]],\n",
       " \n",
       "         ...,\n",
       " \n",
       "         [[236, 236, 236, 236],\n",
       "          [236, 236, 236, 236],\n",
       "          [236, 236, 236, 236],\n",
       "          ...,\n",
       "          [236, 236, 236, 236],\n",
       "          [236, 236, 236, 236],\n",
       "          [236, 236, 236, 236]],\n",
       " \n",
       "         [[236, 236, 236, 236],\n",
       "          [236, 236, 236, 236],\n",
       "          [236, 236, 236, 236],\n",
       "          ...,\n",
       "          [236, 236, 236, 236],\n",
       "          [236, 236, 236, 236],\n",
       "          [236, 236, 236, 236]],\n",
       " \n",
       "         [[236, 236, 236, 236],\n",
       "          [236, 236, 236, 236],\n",
       "          [236, 236, 236, 236],\n",
       "          ...,\n",
       "          [236, 236, 236, 236],\n",
       "          [236, 236, 236, 236],\n",
       "          [236, 236, 236, 236]]]], dtype=uint8)>,\n",
       "  'reward': <tf.Tensor: shape=(1,), dtype=float32, numpy=array([0.], dtype=float32)>,\n",
       "  'step_type': <tf.Tensor: shape=(1,), dtype=int32, numpy=array([1])>}),\n",
       " ())"
      ]
     },
     "execution_count": 20,
     "metadata": {},
     "output_type": "execute_result"
    }
   ],
   "source": [
    "initial_driver.run()"
   ]
  },
  {
   "cell_type": "markdown",
   "id": "65376a60",
   "metadata": {},
   "source": [
    "# Dataset"
   ]
  },
  {
   "cell_type": "code",
   "execution_count": 21,
   "id": "79979392",
   "metadata": {},
   "outputs": [
    {
     "name": "stdout",
     "output_type": "stream",
     "text": [
      "WARNING:tensorflow:From C:\\Users\\alexb\\anaconda3\\envs\\ML_book\\lib\\site-packages\\tensorflow\\python\\autograph\\impl\\api.py:382: ReplayBuffer.get_next (from tf_agents.replay_buffers.replay_buffer) is deprecated and will be removed in a future version.\n",
      "Instructions for updating:\n",
      "Use `as_dataset(..., single_deterministic_pass=False) instead.\n"
     ]
    }
   ],
   "source": [
    "dataset = replay_buffer.as_dataset(sample_batch_size = 64,\n",
    "                                   num_steps = 2,\n",
    "                                   num_parallel_calls = 3).prefetch(3)"
   ]
  },
  {
   "cell_type": "markdown",
   "id": "328b029f",
   "metadata": {},
   "source": [
    "# Training Loop"
   ]
  },
  {
   "cell_type": "code",
   "execution_count": 22,
   "id": "a36b9231",
   "metadata": {},
   "outputs": [
    {
     "data": {
      "text/plain": [
       "'.\\\\Saved policies pongDQN'"
      ]
     },
     "execution_count": 22,
     "metadata": {},
     "output_type": "execute_result"
    }
   ],
   "source": [
    "policy_dir = os.path.join(os.curdir, \"Saved policies pongDQN\")\n",
    "policy_dir"
   ]
  },
  {
   "cell_type": "code",
   "execution_count": 23,
   "id": "e238924f",
   "metadata": {},
   "outputs": [],
   "source": [
    "saver = PolicySaver(agent.policy)"
   ]
  },
  {
   "cell_type": "code",
   "execution_count": 24,
   "id": "da179e6c",
   "metadata": {},
   "outputs": [],
   "source": [
    "collect_driver.run = function(collect_driver.run)\n",
    "agent.train = function(agent.train)"
   ]
  },
  {
   "cell_type": "code",
   "execution_count": 25,
   "id": "5a1c1acd",
   "metadata": {},
   "outputs": [
    {
     "data": {
      "text/plain": [
       "<tf.Variable 'UnreadVariable' shape=() dtype=int32, numpy=0>"
      ]
     },
     "execution_count": 25,
     "metadata": {},
     "output_type": "execute_result"
    }
   ],
   "source": [
    "agent.train_step_counter.assign(0)"
   ]
  },
  {
   "cell_type": "code",
   "execution_count": 26,
   "id": "d83d12c6",
   "metadata": {
    "scrolled": true
   },
   "outputs": [
    {
     "name": "stdout",
     "output_type": "stream",
     "text": [
      "WARNING:tensorflow:From C:\\Users\\alexb\\anaconda3\\envs\\ML_book\\lib\\site-packages\\tensorflow\\python\\util\\dispatch.py:206: calling foldr_v2 (from tensorflow.python.ops.functional_ops) with back_prop=False is deprecated and will be removed in a future version.\n",
      "Instructions for updating:\n",
      "back_prop=False is deprecated. Consider using tf.stop_gradient instead.\n",
      "Instead of:\n",
      "results = tf.foldr(fn, elems, back_prop=False)\n",
      "Use:\n",
      "results = tf.nest.map_structure(tf.stop_gradient, tf.foldr(fn, elems))\n",
      "step = 1000: Average Return = -21.0 --- Average length: 260.79998779296875\n",
      "step = 2000: Average Return = -20.899999618530273 --- Average length: 266.20001220703125\n",
      "step = 3000: Average Return = -20.799999237060547 --- Average length: 300.5\n",
      "step = 4000: Average Return = -20.700000762939453 --- Average length: 313.6000061035156\n",
      "step = 5000: Average Return = -20.399999618530273 --- Average length: 325.8999938964844\n",
      "step = 6000: Average Return = -20.399999618530273 --- Average length: 375.79998779296875\n",
      "step = 7000: Average Return = -20.700000762939453 --- Average length: 358.70001220703125\n",
      "step = 8000: Average Return = -20.100000381469727 --- Average length: 372.20001220703125\n",
      "step = 9000: Average Return = -19.0 --- Average length: 490.1000061035156\n",
      "step = 10000: Average Return = -18.5 --- Average length: 510.20001220703125\n",
      "step = 11000: Average Return = -18.200000762939453 --- Average length: 533.7000122070312\n",
      "step = 12000: Average Return = -18.100000381469727 --- Average length: 535.9000244140625\n",
      "step = 13000: Average Return = -18.600000381469727 --- Average length: 570.4000244140625\n",
      "step = 14000: Average Return = -18.899999618530273 --- Average length: 566.0\n",
      "step = 15000: Average Return = -18.799999237060547 --- Average length: 528.0\n",
      "step = 16000: Average Return = -17.299999237060547 --- Average length: 540.5999755859375\n",
      "step = 17000: Average Return = -17.600000381469727 --- Average length: 535.2999877929688\n",
      "step = 18000: Average Return = -18.399999618530273 --- Average length: 548.9000244140625\n",
      "step = 19000: Average Return = -18.5 --- Average length: 483.8999938964844\n",
      "step = 20000: Average Return = -17.600000381469727 --- Average length: 487.70001220703125\n",
      "step = 21000: Average Return = -17.600000381469727 --- Average length: 496.8999938964844\n",
      "step = 22000: Average Return = -17.700000762939453 --- Average length: 506.29998779296875\n",
      "step = 23000: Average Return = -17.0 --- Average length: 537.7999877929688\n",
      "step = 24000: Average Return = -16.899999618530273 --- Average length: 534.0\n",
      "step = 25000: Average Return = -16.799999237060547 --- Average length: 585.0999755859375\n",
      "step = 26000: Average Return = -17.200000762939453 --- Average length: 560.0\n",
      "step = 27000: Average Return = -17.799999237060547 --- Average length: 536.7999877929688\n",
      "step = 28000: Average Return = -17.200000762939453 --- Average length: 523.2999877929688\n",
      "step = 29000: Average Return = -16.399999618530273 --- Average length: 601.0999755859375\n"
     ]
    },
    {
     "ename": "KeyboardInterrupt",
     "evalue": "",
     "output_type": "error",
     "traceback": [
      "\u001b[1;31m---------------------------------------------------------------------------\u001b[0m",
      "\u001b[1;31mKeyboardInterrupt\u001b[0m                         Traceback (most recent call last)",
      "\u001b[1;32m<ipython-input-26-5ca86db096ba>\u001b[0m in \u001b[0;36m<module>\u001b[1;34m\u001b[0m\n\u001b[0;32m      6\u001b[0m \u001b[1;33m\u001b[0m\u001b[0m\n\u001b[0;32m      7\u001b[0m \u001b[1;32mfor\u001b[0m \u001b[0m_\u001b[0m \u001b[1;32min\u001b[0m \u001b[0mrange\u001b[0m\u001b[1;33m(\u001b[0m\u001b[0mnum_training_steps\u001b[0m\u001b[1;33m)\u001b[0m\u001b[1;33m:\u001b[0m\u001b[1;33m\u001b[0m\u001b[1;33m\u001b[0m\u001b[0m\n\u001b[1;32m----> 8\u001b[1;33m     \u001b[0mtime_step\u001b[0m\u001b[1;33m,\u001b[0m \u001b[0mpolicy_state\u001b[0m \u001b[1;33m=\u001b[0m \u001b[0mcollect_driver\u001b[0m\u001b[1;33m.\u001b[0m\u001b[0mrun\u001b[0m\u001b[1;33m(\u001b[0m\u001b[0mtime_step\u001b[0m\u001b[1;33m,\u001b[0m \u001b[0mpolicy_state\u001b[0m\u001b[1;33m)\u001b[0m\u001b[1;33m\u001b[0m\u001b[1;33m\u001b[0m\u001b[0m\n\u001b[0m\u001b[0;32m      9\u001b[0m     \u001b[0mexperience\u001b[0m\u001b[1;33m,\u001b[0m \u001b[0minfo\u001b[0m \u001b[1;33m=\u001b[0m \u001b[0mnext\u001b[0m\u001b[1;33m(\u001b[0m\u001b[0miterator\u001b[0m\u001b[1;33m)\u001b[0m\u001b[1;33m\u001b[0m\u001b[1;33m\u001b[0m\u001b[0m\n\u001b[0;32m     10\u001b[0m     \u001b[0mtrain_loss\u001b[0m \u001b[1;33m=\u001b[0m \u001b[0magent\u001b[0m\u001b[1;33m.\u001b[0m\u001b[0mtrain\u001b[0m\u001b[1;33m(\u001b[0m\u001b[0mexperience\u001b[0m\u001b[1;33m)\u001b[0m\u001b[1;33m\u001b[0m\u001b[1;33m\u001b[0m\u001b[0m\n",
      "\u001b[1;32m~\\anaconda3\\envs\\ML_book\\lib\\site-packages\\tensorflow\\python\\eager\\def_function.py\u001b[0m in \u001b[0;36m__call__\u001b[1;34m(self, *args, **kwds)\u001b[0m\n\u001b[0;32m    887\u001b[0m \u001b[1;33m\u001b[0m\u001b[0m\n\u001b[0;32m    888\u001b[0m       \u001b[1;32mwith\u001b[0m \u001b[0mOptionalXlaContext\u001b[0m\u001b[1;33m(\u001b[0m\u001b[0mself\u001b[0m\u001b[1;33m.\u001b[0m\u001b[0m_jit_compile\u001b[0m\u001b[1;33m)\u001b[0m\u001b[1;33m:\u001b[0m\u001b[1;33m\u001b[0m\u001b[1;33m\u001b[0m\u001b[0m\n\u001b[1;32m--> 889\u001b[1;33m         \u001b[0mresult\u001b[0m \u001b[1;33m=\u001b[0m \u001b[0mself\u001b[0m\u001b[1;33m.\u001b[0m\u001b[0m_call\u001b[0m\u001b[1;33m(\u001b[0m\u001b[1;33m*\u001b[0m\u001b[0margs\u001b[0m\u001b[1;33m,\u001b[0m \u001b[1;33m**\u001b[0m\u001b[0mkwds\u001b[0m\u001b[1;33m)\u001b[0m\u001b[1;33m\u001b[0m\u001b[1;33m\u001b[0m\u001b[0m\n\u001b[0m\u001b[0;32m    890\u001b[0m \u001b[1;33m\u001b[0m\u001b[0m\n\u001b[0;32m    891\u001b[0m       \u001b[0mnew_tracing_count\u001b[0m \u001b[1;33m=\u001b[0m \u001b[0mself\u001b[0m\u001b[1;33m.\u001b[0m\u001b[0mexperimental_get_tracing_count\u001b[0m\u001b[1;33m(\u001b[0m\u001b[1;33m)\u001b[0m\u001b[1;33m\u001b[0m\u001b[1;33m\u001b[0m\u001b[0m\n",
      "\u001b[1;32m~\\anaconda3\\envs\\ML_book\\lib\\site-packages\\tensorflow\\python\\eager\\def_function.py\u001b[0m in \u001b[0;36m_call\u001b[1;34m(self, *args, **kwds)\u001b[0m\n\u001b[0;32m    922\u001b[0m       \u001b[1;31m# In this case we have not created variables on the first call. So we can\u001b[0m\u001b[1;33m\u001b[0m\u001b[1;33m\u001b[0m\u001b[1;33m\u001b[0m\u001b[0m\n\u001b[0;32m    923\u001b[0m       \u001b[1;31m# run the first trace but we should fail if variables are created.\u001b[0m\u001b[1;33m\u001b[0m\u001b[1;33m\u001b[0m\u001b[1;33m\u001b[0m\u001b[0m\n\u001b[1;32m--> 924\u001b[1;33m       \u001b[0mresults\u001b[0m \u001b[1;33m=\u001b[0m \u001b[0mself\u001b[0m\u001b[1;33m.\u001b[0m\u001b[0m_stateful_fn\u001b[0m\u001b[1;33m(\u001b[0m\u001b[1;33m*\u001b[0m\u001b[0margs\u001b[0m\u001b[1;33m,\u001b[0m \u001b[1;33m**\u001b[0m\u001b[0mkwds\u001b[0m\u001b[1;33m)\u001b[0m\u001b[1;33m\u001b[0m\u001b[1;33m\u001b[0m\u001b[0m\n\u001b[0m\u001b[0;32m    925\u001b[0m       \u001b[1;32mif\u001b[0m \u001b[0mself\u001b[0m\u001b[1;33m.\u001b[0m\u001b[0m_created_variables\u001b[0m\u001b[1;33m:\u001b[0m\u001b[1;33m\u001b[0m\u001b[1;33m\u001b[0m\u001b[0m\n\u001b[0;32m    926\u001b[0m         raise ValueError(\"Creating variables on a non-first call to a function\"\n",
      "\u001b[1;32m~\\anaconda3\\envs\\ML_book\\lib\\site-packages\\tensorflow\\python\\eager\\function.py\u001b[0m in \u001b[0;36m__call__\u001b[1;34m(self, *args, **kwargs)\u001b[0m\n\u001b[0;32m   3021\u001b[0m       (graph_function,\n\u001b[0;32m   3022\u001b[0m        filtered_flat_args) = self._maybe_define_function(args, kwargs)\n\u001b[1;32m-> 3023\u001b[1;33m     return graph_function._call_flat(\n\u001b[0m\u001b[0;32m   3024\u001b[0m         filtered_flat_args, captured_inputs=graph_function.captured_inputs)  # pylint: disable=protected-access\n\u001b[0;32m   3025\u001b[0m \u001b[1;33m\u001b[0m\u001b[0m\n",
      "\u001b[1;32m~\\anaconda3\\envs\\ML_book\\lib\\site-packages\\tensorflow\\python\\eager\\function.py\u001b[0m in \u001b[0;36m_call_flat\u001b[1;34m(self, args, captured_inputs, cancellation_manager)\u001b[0m\n\u001b[0;32m   1958\u001b[0m         and executing_eagerly):\n\u001b[0;32m   1959\u001b[0m       \u001b[1;31m# No tape is watching; skip to running the function.\u001b[0m\u001b[1;33m\u001b[0m\u001b[1;33m\u001b[0m\u001b[1;33m\u001b[0m\u001b[0m\n\u001b[1;32m-> 1960\u001b[1;33m       return self._build_call_outputs(self._inference_function.call(\n\u001b[0m\u001b[0;32m   1961\u001b[0m           ctx, args, cancellation_manager=cancellation_manager))\n\u001b[0;32m   1962\u001b[0m     forward_backward = self._select_forward_and_backward_functions(\n",
      "\u001b[1;32m~\\anaconda3\\envs\\ML_book\\lib\\site-packages\\tensorflow\\python\\eager\\function.py\u001b[0m in \u001b[0;36mcall\u001b[1;34m(self, ctx, args, cancellation_manager)\u001b[0m\n\u001b[0;32m    589\u001b[0m       \u001b[1;32mwith\u001b[0m \u001b[0m_InterpolateFunctionError\u001b[0m\u001b[1;33m(\u001b[0m\u001b[0mself\u001b[0m\u001b[1;33m)\u001b[0m\u001b[1;33m:\u001b[0m\u001b[1;33m\u001b[0m\u001b[1;33m\u001b[0m\u001b[0m\n\u001b[0;32m    590\u001b[0m         \u001b[1;32mif\u001b[0m \u001b[0mcancellation_manager\u001b[0m \u001b[1;32mis\u001b[0m \u001b[1;32mNone\u001b[0m\u001b[1;33m:\u001b[0m\u001b[1;33m\u001b[0m\u001b[1;33m\u001b[0m\u001b[0m\n\u001b[1;32m--> 591\u001b[1;33m           outputs = execute.execute(\n\u001b[0m\u001b[0;32m    592\u001b[0m               \u001b[0mstr\u001b[0m\u001b[1;33m(\u001b[0m\u001b[0mself\u001b[0m\u001b[1;33m.\u001b[0m\u001b[0msignature\u001b[0m\u001b[1;33m.\u001b[0m\u001b[0mname\u001b[0m\u001b[1;33m)\u001b[0m\u001b[1;33m,\u001b[0m\u001b[1;33m\u001b[0m\u001b[1;33m\u001b[0m\u001b[0m\n\u001b[0;32m    593\u001b[0m               \u001b[0mnum_outputs\u001b[0m\u001b[1;33m=\u001b[0m\u001b[0mself\u001b[0m\u001b[1;33m.\u001b[0m\u001b[0m_num_outputs\u001b[0m\u001b[1;33m,\u001b[0m\u001b[1;33m\u001b[0m\u001b[1;33m\u001b[0m\u001b[0m\n",
      "\u001b[1;32m~\\anaconda3\\envs\\ML_book\\lib\\site-packages\\tensorflow\\python\\eager\\execute.py\u001b[0m in \u001b[0;36mquick_execute\u001b[1;34m(op_name, num_outputs, inputs, attrs, ctx, name)\u001b[0m\n\u001b[0;32m     57\u001b[0m   \u001b[1;32mtry\u001b[0m\u001b[1;33m:\u001b[0m\u001b[1;33m\u001b[0m\u001b[1;33m\u001b[0m\u001b[0m\n\u001b[0;32m     58\u001b[0m     \u001b[0mctx\u001b[0m\u001b[1;33m.\u001b[0m\u001b[0mensure_initialized\u001b[0m\u001b[1;33m(\u001b[0m\u001b[1;33m)\u001b[0m\u001b[1;33m\u001b[0m\u001b[1;33m\u001b[0m\u001b[0m\n\u001b[1;32m---> 59\u001b[1;33m     tensors = pywrap_tfe.TFE_Py_Execute(ctx._handle, device_name, op_name,\n\u001b[0m\u001b[0;32m     60\u001b[0m                                         inputs, attrs, num_outputs)\n\u001b[0;32m     61\u001b[0m   \u001b[1;32mexcept\u001b[0m \u001b[0mcore\u001b[0m\u001b[1;33m.\u001b[0m\u001b[0m_NotOkStatusException\u001b[0m \u001b[1;32mas\u001b[0m \u001b[0me\u001b[0m\u001b[1;33m:\u001b[0m\u001b[1;33m\u001b[0m\u001b[1;33m\u001b[0m\u001b[0m\n",
      "\u001b[1;31mKeyboardInterrupt\u001b[0m: "
     ]
    }
   ],
   "source": [
    "time_step = None\n",
    "policy_state = agent.policy.get_initial_state(train_env.batch_size)\n",
    "iterator = iter(dataset)\n",
    "\n",
    "returns = []\n",
    "\n",
    "for _ in range(num_training_steps):\n",
    "    time_step, policy_state = collect_driver.run(time_step, policy_state)\n",
    "    experience, info = next(iterator)\n",
    "    train_loss = agent.train(experience)\n",
    "    \n",
    "    step = agent.train_step_counter.numpy()\n",
    "\n",
    "    if step % 1000 == 0:\n",
    "        avg_return = training_metrics[2].result()\n",
    "        avg_length = training_metrics[3].result()\n",
    "        print('step = {0}: Average Return = {1} --- Average length: {2}'.format(step, avg_return, avg_length))\n",
    "        returns.append(avg_return)\n",
    "        \n",
    "#     if step % 10000 == 0:\n",
    "#         iteration = step // 1000\n",
    "#         folder = os.path.join(policy_dir, \"policy_%dk\" % iteration)\n",
    "#         saver.save(folder)"
   ]
  },
  {
   "cell_type": "markdown",
   "id": "ed23aa8d",
   "metadata": {},
   "source": [
    "# Evaluation and visualization"
   ]
  },
  {
   "cell_type": "code",
   "execution_count": null,
   "id": "a2dff126",
   "metadata": {},
   "outputs": [],
   "source": [
    "plt.figure(figsize=(10, 4))\n",
    "plt.plot(returns)\n",
    "plt.grid()"
   ]
  },
  {
   "cell_type": "code",
   "execution_count": null,
   "id": "63ddd220",
   "metadata": {},
   "outputs": [],
   "source": [
    "policy = tf.saved_model.load(\"Saved policies pong/policy_1570k\")"
   ]
  },
  {
   "cell_type": "code",
   "execution_count": null,
   "id": "ac79cc6e",
   "metadata": {},
   "outputs": [],
   "source": [
    "episode_rewards = []\n",
    "\n",
    "for _ in range(200):\n",
    "    reward = 0.0\n",
    "    time_step = eval_env.reset()\n",
    "    \n",
    "    while not time_step.is_last():\n",
    "        action_step = policy.action(time_step)\n",
    "        time_step = eval_env.step(action_step)\n",
    "        reward += time_step.reward\n",
    "    episode_rewards.append(reward)"
   ]
  },
  {
   "cell_type": "code",
   "execution_count": null,
   "id": "b7b9d0da",
   "metadata": {},
   "outputs": [],
   "source": [
    "x = np.array(episode_rewards).reshape(-1)"
   ]
  },
  {
   "cell_type": "code",
   "execution_count": null,
   "id": "9e549c8b",
   "metadata": {},
   "outputs": [],
   "source": [
    "tf.reduce_mean(episode_rewards)"
   ]
  },
  {
   "cell_type": "code",
   "execution_count": null,
   "id": "ed1fed38",
   "metadata": {},
   "outputs": [],
   "source": [
    "tf.math.reduce_std(episode_rewards)"
   ]
  },
  {
   "cell_type": "code",
   "execution_count": null,
   "id": "20db2e65",
   "metadata": {},
   "outputs": [],
   "source": [
    "n, bins, patches = plt.hist(x, 50, density=True, facecolor='g', alpha=0.75)\n",
    "\n",
    "plt.grid(True)\n",
    "plt.show()"
   ]
  },
  {
   "cell_type": "code",
   "execution_count": null,
   "id": "684aca8b",
   "metadata": {},
   "outputs": [],
   "source": []
  }
 ],
 "metadata": {
  "kernelspec": {
   "display_name": "Python 3",
   "language": "python",
   "name": "python3"
  },
  "language_info": {
   "codemirror_mode": {
    "name": "ipython",
    "version": 3
   },
   "file_extension": ".py",
   "mimetype": "text/x-python",
   "name": "python",
   "nbconvert_exporter": "python",
   "pygments_lexer": "ipython3",
   "version": "3.8.8"
  }
 },
 "nbformat": 4,
 "nbformat_minor": 5
}
